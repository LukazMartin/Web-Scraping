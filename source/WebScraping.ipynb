{
 "cells": [
  {
   "cell_type": "markdown",
   "id": "eccf6333",
   "metadata": {},
   "source": [
    "# Web Scraping"
   ]
  },
  {
   "cell_type": "markdown",
   "id": "8fbda330",
   "metadata": {},
   "source": [
    "· Crawler with selenium all listings for Zurich from homegate.ch\n",
    "\n",
    "· Save the crawled data in the database\n",
    "\n",
    "· Make sure that no duplicates make it into the database"
   ]
  },
  {
   "cell_type": "code",
   "execution_count": 1,
   "id": "c3cd6c1a",
   "metadata": {},
   "outputs": [],
   "source": [
    "from selenium import webdriver\n",
    "from selenium.webdriver.common.by import By\n",
    "from sqlalchemy import create_engine, inspect, MetaData, select, Table\n",
    "from selenium.webdriver.chrome.options import Options\n",
    "from sqlalchemy.exc import IntegrityError\n",
    "from random import randint\n",
    "from time import sleep\n",
    "import pandas as pd\n",
    "import datetime"
   ]
  },
  {
   "cell_type": "markdown",
   "id": "17a0eb3b",
   "metadata": {},
   "source": [
    "# Crawler methods"
   ]
  },
  {
   "cell_type": "code",
   "execution_count": 2,
   "id": "6e4d78cc",
   "metadata": {},
   "outputs": [],
   "source": [
    "def get_next_url(url):\n",
    "    \"\"\"\n",
    "        Increase page number by 1.\n",
    "        \n",
    "        https://www.homegate.ch/rent/real-estate/city-zurich/matching-list?ep=9\n",
    "        https://www.homegate.ch/rent/real-estate/city-zurich/matching-list?ep=10\n",
    "        ...\n",
    "        https://www.homegate.ch/rent/real-estate/city-zurich/matching-list?ep=n\n",
    "    \"\"\"\n",
    "    split_ = url.split('=')\n",
    "    return split_[0] + '=' + str(int(split_[1]) + 1)"
   ]
  },
  {
   "cell_type": "code",
   "execution_count": 3,
   "id": "519df026",
   "metadata": {},
   "outputs": [],
   "source": [
    "def get_page(url): \n",
    "    sleep(randint(1,5)) # Random sleep time to avoid CAPTCHA and access denied\n",
    "    driver.get(url)"
   ]
  },
  {
   "cell_type": "code",
   "execution_count": 4,
   "id": "0b0412d4",
   "metadata": {},
   "outputs": [],
   "source": [
    "def get_page_links():\n",
    "    \"\"\"\n",
    "        Older pages have stored the links to houses in different html class names. In this cases None will be in the list of links.\n",
    "        For this we check for the old class name.\n",
    "    \"\"\"\n",
    "    links = [link.get_attribute('href') for link in driver.find_elements(By.CLASS_NAME, \"ResultList_ListItem_3AwDq\")]\n",
    "    if None in links:\n",
    "        links_old = links + [link.get_attribute('href') for link in driver.find_elements(By.CLASS_NAME, \"ListItem_itemLink_30Did\")]\n",
    "        links = [link for link in links_old if link is not None]\n",
    "    return links"
   ]
  },
  {
   "cell_type": "code",
   "execution_count": 5,
   "id": "c0ac108e",
   "metadata": {},
   "outputs": [],
   "source": [
    "def get_price_rooms_area():\n",
    "    \"\"\"\n",
    "        Get price, number of rooms and living area of the house.\n",
    "        In case some are not provided they are replaced by None.\n",
    "    \"\"\"\n",
    "    obj = driver.find_elements(By.CLASS_NAME, \"SpotlightAttributes_value_2njuM\")\n",
    "    labels = driver.find_elements(By.CLASS_NAME, \"SpotlightAttributes_label_3ETFE\")\n",
    "    price, rooms, size = None, None, None\n",
    "    for pos,label in enumerate(labels):\n",
    "        if label.text == 'Rent':\n",
    "            try:\n",
    "                price = float(obj[pos].text[4:obj[pos].text.index('.')].replace(\",\",\"\"))\n",
    "            except:\n",
    "                price = None  # Price on request\n",
    "        elif label.text == 'Living space':   \n",
    "            size = float(obj[pos].text.split()[0])  \n",
    "        elif label.text == 'Rooms':\n",
    "            rooms = float(obj[pos].text)\n",
    "        else:\n",
    "            print(label.text)\n",
    "    return price, rooms, size"
   ]
  },
  {
   "cell_type": "code",
   "execution_count": 6,
   "id": "b38db451",
   "metadata": {},
   "outputs": [],
   "source": [
    "def get_id(url):\n",
    "    \"\"\"\n",
    "        Can be found in the url -> https://www.homegate.ch/rent/3002168279\n",
    "        Id = 3002168279\n",
    "    \"\"\"\n",
    "    return url[url.index('rent') + 5:]"
   ]
  },
  {
   "cell_type": "code",
   "execution_count": 7,
   "id": "ad123de3",
   "metadata": {},
   "outputs": [],
   "source": [
    "def get_address():\n",
    "    \"\"\"\n",
    "        Get the address. Always provided.\n",
    "    \"\"\"\n",
    "    return driver.find_elements(By.CLASS_NAME, \"AddressDetails_address_3Uq1m\")[0].text"
   ]
  },
  {
   "cell_type": "code",
   "execution_count": 8,
   "id": "7e05f3cd",
   "metadata": {},
   "outputs": [],
   "source": [
    "def get_extraction_date():\n",
    "    \"\"\"\n",
    "        Extraction date is at the moment the crawler accesses the webpage.\n",
    "        Format: 2022-11-14 16:00:03.103544\n",
    "    \"\"\"\n",
    "    return str(datetime.datetime.now())"
   ]
  },
  {
   "cell_type": "code",
   "execution_count": 9,
   "id": "fcf44c41",
   "metadata": {},
   "outputs": [],
   "source": [
    "def get_attributes(url):\n",
    "    \"\"\"\n",
    "        Get id, price, rooms, area, address and extraction date\n",
    "    \"\"\"\n",
    "    price, rooms, size = get_price_rooms_area()\n",
    "    id_ = get_id(url)\n",
    "    address = get_address()\n",
    "    extraction_date = get_extraction_date()\n",
    "    safe_to_database(id_, price, size, rooms, address, extraction_date)\n",
    "    print(id_, price, rooms, size, address, extraction_date)"
   ]
  },
  {
   "cell_type": "code",
   "execution_count": 10,
   "id": "385e92b5",
   "metadata": {},
   "outputs": [],
   "source": [
    "def explore_links(links):\n",
    "    for link in links:\n",
    "        print(link)\n",
    "        get_page(link)\n",
    "        get_attributes(link)"
   ]
  },
  {
   "cell_type": "markdown",
   "id": "306be049",
   "metadata": {},
   "source": [
    "# Connection to database"
   ]
  },
  {
   "cell_type": "code",
   "execution_count": 11,
   "id": "85c97862",
   "metadata": {},
   "outputs": [
    {
     "name": "stdout",
     "output_type": "stream",
     "text": [
      "listings\n"
     ]
    }
   ],
   "source": [
    "# Using sqlalchemy to load the database\n",
    "engine = create_engine('sqlite:///listing_database.db')\n",
    "inspector = inspect(engine)\n",
    "connection = engine.connect()\n",
    "metadata = MetaData()\n",
    "table_name = inspector.get_table_names()[0]\n",
    "print(table_name)"
   ]
  },
  {
   "cell_type": "code",
   "execution_count": 12,
   "id": "7c16bf9f",
   "metadata": {},
   "outputs": [
    {
     "name": "stdout",
     "output_type": "stream",
     "text": [
      "['listing_id', 'price', 'size', 'rooms', 'address', 'extraction_date']\n"
     ]
    }
   ],
   "source": [
    "listings = Table(table_name, metadata, autoload=True, autoload_with=engine)\n",
    "print(listings.columns.keys())"
   ]
  },
  {
   "cell_type": "code",
   "execution_count": 13,
   "id": "5fcb3026",
   "metadata": {},
   "outputs": [
    {
     "data": {
      "text/plain": [
       "FacadeDict({'listings': Table('listings', MetaData(), Column('listing_id', INTEGER(), table=<listings>, primary_key=True), Column('price', REAL(), table=<listings>), Column('size', REAL(), table=<listings>), Column('rooms', REAL(), table=<listings>), Column('address', TEXT(), table=<listings>), Column('extraction_date', TEXT(), table=<listings>), schema=None)})"
      ]
     },
     "execution_count": 13,
     "metadata": {},
     "output_type": "execute_result"
    }
   ],
   "source": [
    "metadata.tables"
   ]
  },
  {
   "cell_type": "code",
   "execution_count": 38,
   "id": "ea51fd04",
   "metadata": {},
   "outputs": [
    {
     "data": {
      "text/html": [
       "<div>\n",
       "<style scoped>\n",
       "    .dataframe tbody tr th:only-of-type {\n",
       "        vertical-align: middle;\n",
       "    }\n",
       "\n",
       "    .dataframe tbody tr th {\n",
       "        vertical-align: top;\n",
       "    }\n",
       "\n",
       "    .dataframe thead th {\n",
       "        text-align: right;\n",
       "    }\n",
       "</style>\n",
       "<table border=\"1\" class=\"dataframe\">\n",
       "  <thead>\n",
       "    <tr style=\"text-align: right;\">\n",
       "      <th></th>\n",
       "      <th>0</th>\n",
       "      <th>1</th>\n",
       "      <th>2</th>\n",
       "      <th>3</th>\n",
       "      <th>4</th>\n",
       "      <th>5</th>\n",
       "    </tr>\n",
       "  </thead>\n",
       "  <tbody>\n",
       "    <tr>\n",
       "      <th>0</th>\n",
       "      <td>3002140953</td>\n",
       "      <td>4125.0</td>\n",
       "      <td>90.0</td>\n",
       "      <td>4.5</td>\n",
       "      <td>Waserstrasse, 8053 Zurich</td>\n",
       "      <td>2022-11-14 16:00:03.103544</td>\n",
       "    </tr>\n",
       "    <tr>\n",
       "      <th>1</th>\n",
       "      <td>3002206075</td>\n",
       "      <td>1080.0</td>\n",
       "      <td>26.0</td>\n",
       "      <td>1.5</td>\n",
       "      <td>Weite Gasse, 8001 Zürich</td>\n",
       "      <td>2022-11-14 16:00:03.103544</td>\n",
       "    </tr>\n",
       "  </tbody>\n",
       "</table>\n",
       "</div>"
      ],
      "text/plain": [
       "            0       1     2    3                          4  \\\n",
       "0  3002140953  4125.0  90.0  4.5  Waserstrasse, 8053 Zurich   \n",
       "1  3002206075  1080.0  26.0  1.5   Weite Gasse, 8001 Zürich   \n",
       "\n",
       "                            5  \n",
       "0  2022-11-14 16:00:03.103544  \n",
       "1  2022-11-14 16:00:03.103544  "
      ]
     },
     "execution_count": 38,
     "metadata": {},
     "output_type": "execute_result"
    }
   ],
   "source": [
    "query = select([listings]) \n",
    "result = connection.execute(query).fetchall()\n",
    "df = pd.DataFrame(result)\n",
    "df"
   ]
  },
  {
   "cell_type": "code",
   "execution_count": 14,
   "id": "bd96e51f",
   "metadata": {},
   "outputs": [],
   "source": [
    "def safe_to_database(id_, price, size, rooms, address, extraction_date):\n",
    "    try:\n",
    "        insert = metadata.tables['listings'].insert().values(listing_id=id_, price=price, size=size, rooms=rooms, address=address, extraction_date=extraction_date)\n",
    "        connection.execute(insert)\n",
    "    except IntegrityError:\n",
    "        pass # Object already in database\n",
    "    except Exception:\n",
    "        print(\"FAILURE: \", id_, price, size, rooms, address, extraction_date)"
   ]
  },
  {
   "cell_type": "markdown",
   "id": "27495360",
   "metadata": {},
   "source": [
    "# Crawler"
   ]
  },
  {
   "cell_type": "code",
   "execution_count": 15,
   "id": "2a63a103",
   "metadata": {},
   "outputs": [],
   "source": [
    "def crawler(target_url,count=None):\n",
    "    if count is None:    \n",
    "        explore = 1\n",
    "    else:\n",
    "        explore = count\n",
    "    while explore > 0:\n",
    "        print(\"target: \" + target_url)\n",
    "        get_page(target_url)\n",
    "        links = get_page_links()\n",
    "        if len(links) == 0:\n",
    "            break\n",
    "        explore_links(links)\n",
    "        target_url = get_next_url(target_url)\n",
    "        if count:\n",
    "            explore-=1"
   ]
  },
  {
   "cell_type": "code",
   "execution_count": 16,
   "id": "2f6cfc95",
   "metadata": {},
   "outputs": [
    {
     "name": "stdout",
     "output_type": "stream",
     "text": [
      "target: https://www.homegate.ch/rent/real-estate/city-zurich/matching-list?ep=1\n",
      "https://www.homegate.ch/rent/3002184266\n",
      "3002184266 4250.0 2.5 70.0 Ankerstrasse, 8004 Zürich 2022-11-29 12:02:15.873120\n",
      "https://www.homegate.ch/rent/3002184264\n",
      "3002184264 4400.0 2.5 71.0 Ankerstrasse 114, 8004 Zürich 2022-11-29 12:02:21.107785\n",
      "https://www.homegate.ch/rent/3002184262\n",
      "3002184262 5700.0 3.5 94.0 Ankerstrasse 114, 8004 Zürich 2022-11-29 12:02:29.782107\n",
      "https://www.homegate.ch/rent/3002184263\n",
      "3002184263 5800.0 3.5 97.0 Ankerstrasse 114, 8004 Zürich 2022-11-29 12:02:35.089566\n",
      "https://www.homegate.ch/rent/3002228879\n",
      "3002228879 2080.0 3.0 75.0 Birmensdorferstrasse 588, 8055 Zürich 2022-11-29 12:02:40.194790\n",
      "https://www.homegate.ch/rent/3002140953\n",
      "3002140953 4125.0 4.5 90.0 Waserstrasse, 8053 Zurich 2022-11-29 12:02:46.179520\n",
      "https://www.homegate.ch/rent/3002253311\n",
      "3002253311 1000.0 2.5 78.0 Froschaugasse 18, 8001 Zürich 2022-11-29 12:02:48.982204\n",
      "https://www.homegate.ch/rent/3002104105\n",
      "3002104105 2522.0 2.0 None Sankt Peterhofstatt 4, 8001 Zürich 2022-11-29 12:02:51.680497\n",
      "https://www.homegate.ch/rent/3002226013\n",
      "3002226013 4700.0 2.5 86.0 Limmatquai 118, 8001 Zürich 2022-11-29 12:02:55.676320\n",
      "https://www.homegate.ch/rent/3002222915\n",
      "3002222915 15900.0 3.5 130.0 Schützengasse 14, 8001 Zürich 2022-11-29 12:02:58.820919\n",
      "https://www.homegate.ch/rent/3002245531\n",
      "3002245531 2870.0 3.0 77.0 Mutschellenstrasse 17, 8002 Zürich 2022-11-29 12:03:05.032435\n",
      "https://www.homegate.ch/rent/3002223146\n",
      "3002223146 2550.0 3.5 91.0 Kalkbreitestr. 115, 8003 Zürich 2022-11-29 12:03:08.981179\n",
      "https://www.homegate.ch/rent/3002157454\n",
      "3002157454 3280.0 4.0 90.0 Aemtlerstrasse 82, 8003 Zürich 2022-11-29 12:03:12.949835\n",
      "https://www.homegate.ch/rent/3002229489\n",
      "3002229489 1750.0 1.0 20.0 Robert-Stephenson-Weg 47, 8004 Zürich 2022-11-29 12:03:15.609569\n",
      "https://www.homegate.ch/rent/3002216984\n",
      "3002216984 2950.0 3.5 65.0 Badenerstrasse 370, 8004 Zürich 2022-11-29 12:03:18.889592\n",
      "https://www.homegate.ch/rent/3002176086\n",
      "3002176086 2250.0 2.0 68.0 Pfingstweidstrasse 94, 8005 Zürich 2022-11-29 12:03:24.222592\n",
      "https://www.homegate.ch/rent/3002199679\n",
      "3002199679 1950.0 2.0 50.0 Sankt Moritzstrasse 1, 8006 Zürich 2022-11-29 12:03:30.503861\n",
      "https://www.homegate.ch/rent/3002223230\n",
      "3002223230 4618.0 4.5 126.0 Rigistr. 52, 8006 Zürich 2022-11-29 12:03:34.569608\n",
      "https://www.homegate.ch/rent/3002177733\n",
      "3002177733 11800.0 11.0 250.0 Goldauerstrasse 8, 8006 Zürich 2022-11-29 12:03:37.638720\n",
      "https://www.homegate.ch/rent/3002253626\n",
      "3002253626 1300.0 1.0 35.0 Baurstrasse 29, 8008 Zürich 2022-11-29 12:03:43.731803\n"
     ]
    }
   ],
   "source": [
    "target_url = \"https://www.homegate.ch/rent/real-estate/city-zurich/matching-list?ep=1\"\n",
    "driver = webdriver.Chrome() # Select driver Chrome\n",
    "crawler(target_url,count=1)\n",
    "driver.close()"
   ]
  },
  {
   "cell_type": "markdown",
   "id": "ede80778",
   "metadata": {},
   "source": [
    "# Delete new inserted rows"
   ]
  },
  {
   "cell_type": "code",
   "execution_count": 41,
   "id": "a0b957ac",
   "metadata": {},
   "outputs": [],
   "source": [
    "#stmt=metadata.tables['listings'].delete().where(metadata.tables['listings'].c.extraction_date > \"2022-11-15 16:00:03.103544\")\n",
    "#connection.execute(stmt)"
   ]
  },
  {
   "cell_type": "markdown",
   "id": "8b1156de",
   "metadata": {},
   "source": [
    "# Challenges"
   ]
  },
  {
   "cell_type": "markdown",
   "id": "57b97a11",
   "metadata": {},
   "source": [
    "To many requests, saturating the server:\n",
    "\n",
    "<img src=\"../img/captcha1.png\" width=\"600\">\n",
    "\n",
    "Different User-Agents get denied access:\n",
    "\n",
    "<img src=\"../img/denied1.png\" width=\"600\">\n",
    "\n",
    "Different html structures:\n",
    "\n",
    "<img src=\"../img/rent.png\" width=\"600\">\n",
    "<img src=\"../img/rent_all.png\" width=\"600\">\n",
    "<img src=\"../img/rent_week.png\" width=\"600\">"
   ]
  },
  {
   "cell_type": "markdown",
   "id": "f608b2c8",
   "metadata": {},
   "source": [
    "# Testing "
   ]
  },
  {
   "cell_type": "code",
   "execution_count": 17,
   "id": "7771f18f",
   "metadata": {},
   "outputs": [
    {
     "data": {
      "text/html": [
       "<div>\n",
       "<style scoped>\n",
       "    .dataframe tbody tr th:only-of-type {\n",
       "        vertical-align: middle;\n",
       "    }\n",
       "\n",
       "    .dataframe tbody tr th {\n",
       "        vertical-align: top;\n",
       "    }\n",
       "\n",
       "    .dataframe thead th {\n",
       "        text-align: right;\n",
       "    }\n",
       "</style>\n",
       "<table border=\"1\" class=\"dataframe\">\n",
       "  <thead>\n",
       "    <tr style=\"text-align: right;\">\n",
       "      <th></th>\n",
       "      <th>listing_id</th>\n",
       "      <th>price</th>\n",
       "      <th>size</th>\n",
       "      <th>rooms</th>\n",
       "      <th>address</th>\n",
       "      <th>extraction_date</th>\n",
       "    </tr>\n",
       "  </thead>\n",
       "  <tbody>\n",
       "    <tr>\n",
       "      <th>0</th>\n",
       "      <td>104854547</td>\n",
       "      <td>3550.0</td>\n",
       "      <td>44.0</td>\n",
       "      <td>1.5</td>\n",
       "      <td>Carl-Spitteler-Str. 70, 8053 Zürich</td>\n",
       "      <td>2022-11-28 18:50:59.631826</td>\n",
       "    </tr>\n",
       "    <tr>\n",
       "      <th>1</th>\n",
       "      <td>109992819</td>\n",
       "      <td>5290.0</td>\n",
       "      <td>83.0</td>\n",
       "      <td>3.5</td>\n",
       "      <td>Seefeldstrasse, 8008 Zürich</td>\n",
       "      <td>2022-11-28 18:36:17.952692</td>\n",
       "    </tr>\n",
       "    <tr>\n",
       "      <th>2</th>\n",
       "      <td>3000295311</td>\n",
       "      <td>3450.0</td>\n",
       "      <td>85.0</td>\n",
       "      <td>2.5</td>\n",
       "      <td>Dahliastrasse 16, 8008 Zürich</td>\n",
       "      <td>2022-11-28 18:35:35.417756</td>\n",
       "    </tr>\n",
       "    <tr>\n",
       "      <th>3</th>\n",
       "      <td>3000298918</td>\n",
       "      <td>3490.0</td>\n",
       "      <td>55.0</td>\n",
       "      <td>2.0</td>\n",
       "      <td>Untere Zäune 21, 8001 Zürich</td>\n",
       "      <td>2022-11-28 18:24:57.809006</td>\n",
       "    </tr>\n",
       "    <tr>\n",
       "      <th>4</th>\n",
       "      <td>3000485870</td>\n",
       "      <td>1929.0</td>\n",
       "      <td>NaN</td>\n",
       "      <td>2.5</td>\n",
       "      <td>8055 Zürich</td>\n",
       "      <td>2022-11-28 18:51:24.848898</td>\n",
       "    </tr>\n",
       "    <tr>\n",
       "      <th>...</th>\n",
       "      <td>...</td>\n",
       "      <td>...</td>\n",
       "      <td>...</td>\n",
       "      <td>...</td>\n",
       "      <td>...</td>\n",
       "      <td>...</td>\n",
       "    </tr>\n",
       "    <tr>\n",
       "      <th>463</th>\n",
       "      <td>3002243948</td>\n",
       "      <td>50.0</td>\n",
       "      <td>NaN</td>\n",
       "      <td>NaN</td>\n",
       "      <td>Altwiesenstr. 89, 8051 Zürich</td>\n",
       "      <td>2022-11-28 18:48:45.005196</td>\n",
       "    </tr>\n",
       "    <tr>\n",
       "      <th>464</th>\n",
       "      <td>3002244390</td>\n",
       "      <td>3695.0</td>\n",
       "      <td>NaN</td>\n",
       "      <td>4.5</td>\n",
       "      <td>Wiesliacher 45, 8053 Zürich</td>\n",
       "      <td>2022-11-28 18:24:09.371538</td>\n",
       "    </tr>\n",
       "    <tr>\n",
       "      <th>465</th>\n",
       "      <td>3002245531</td>\n",
       "      <td>2870.0</td>\n",
       "      <td>77.0</td>\n",
       "      <td>3.0</td>\n",
       "      <td>Mutschellenstrasse 17, 8002 Zürich</td>\n",
       "      <td>2022-11-29 12:03:05.032435</td>\n",
       "    </tr>\n",
       "    <tr>\n",
       "      <th>466</th>\n",
       "      <td>3002253311</td>\n",
       "      <td>1000.0</td>\n",
       "      <td>78.0</td>\n",
       "      <td>2.5</td>\n",
       "      <td>Froschaugasse 18, 8001 Zürich</td>\n",
       "      <td>2022-11-29 12:02:48.982204</td>\n",
       "    </tr>\n",
       "    <tr>\n",
       "      <th>467</th>\n",
       "      <td>3002253626</td>\n",
       "      <td>1300.0</td>\n",
       "      <td>35.0</td>\n",
       "      <td>1.0</td>\n",
       "      <td>Baurstrasse 29, 8008 Zürich</td>\n",
       "      <td>2022-11-29 12:03:43.731803</td>\n",
       "    </tr>\n",
       "  </tbody>\n",
       "</table>\n",
       "<p>468 rows × 6 columns</p>\n",
       "</div>"
      ],
      "text/plain": [
       "     listing_id   price  size  rooms                              address  \\\n",
       "0     104854547  3550.0  44.0    1.5  Carl-Spitteler-Str. 70, 8053 Zürich   \n",
       "1     109992819  5290.0  83.0    3.5          Seefeldstrasse, 8008 Zürich   \n",
       "2    3000295311  3450.0  85.0    2.5        Dahliastrasse 16, 8008 Zürich   \n",
       "3    3000298918  3490.0  55.0    2.0         Untere Zäune 21, 8001 Zürich   \n",
       "4    3000485870  1929.0   NaN    2.5                          8055 Zürich   \n",
       "..          ...     ...   ...    ...                                  ...   \n",
       "463  3002243948    50.0   NaN    NaN        Altwiesenstr. 89, 8051 Zürich   \n",
       "464  3002244390  3695.0   NaN    4.5          Wiesliacher 45, 8053 Zürich   \n",
       "465  3002245531  2870.0  77.0    3.0   Mutschellenstrasse 17, 8002 Zürich   \n",
       "466  3002253311  1000.0  78.0    2.5        Froschaugasse 18, 8001 Zürich   \n",
       "467  3002253626  1300.0  35.0    1.0          Baurstrasse 29, 8008 Zürich   \n",
       "\n",
       "                extraction_date  \n",
       "0    2022-11-28 18:50:59.631826  \n",
       "1    2022-11-28 18:36:17.952692  \n",
       "2    2022-11-28 18:35:35.417756  \n",
       "3    2022-11-28 18:24:57.809006  \n",
       "4    2022-11-28 18:51:24.848898  \n",
       "..                          ...  \n",
       "463  2022-11-28 18:48:45.005196  \n",
       "464  2022-11-28 18:24:09.371538  \n",
       "465  2022-11-29 12:03:05.032435  \n",
       "466  2022-11-29 12:02:48.982204  \n",
       "467  2022-11-29 12:03:43.731803  \n",
       "\n",
       "[468 rows x 6 columns]"
      ]
     },
     "execution_count": 17,
     "metadata": {},
     "output_type": "execute_result"
    }
   ],
   "source": [
    "query = select([listings]) \n",
    "result = connection.execute(query).fetchall()\n",
    "df = pd.DataFrame(result)\n",
    "df.columns = ['listing_id', 'price', 'size', 'rooms', 'address', 'extraction_date']\n",
    "df"
   ]
  },
  {
   "cell_type": "code",
   "execution_count": 18,
   "id": "01313d52",
   "metadata": {},
   "outputs": [
    {
     "data": {
      "text/html": [
       "<div>\n",
       "<style scoped>\n",
       "    .dataframe tbody tr th:only-of-type {\n",
       "        vertical-align: middle;\n",
       "    }\n",
       "\n",
       "    .dataframe tbody tr th {\n",
       "        vertical-align: top;\n",
       "    }\n",
       "\n",
       "    .dataframe thead th {\n",
       "        text-align: right;\n",
       "    }\n",
       "</style>\n",
       "<table border=\"1\" class=\"dataframe\">\n",
       "  <thead>\n",
       "    <tr style=\"text-align: right;\">\n",
       "      <th></th>\n",
       "      <th>listing_id</th>\n",
       "      <th>price</th>\n",
       "      <th>size</th>\n",
       "      <th>rooms</th>\n",
       "      <th>address</th>\n",
       "      <th>extraction_date</th>\n",
       "    </tr>\n",
       "  </thead>\n",
       "  <tbody>\n",
       "    <tr>\n",
       "      <th>55</th>\n",
       "      <td>3001641976</td>\n",
       "      <td>NaN</td>\n",
       "      <td>200.0</td>\n",
       "      <td>4.5</td>\n",
       "      <td>Lintheschergasse 23, 8001 Zürich</td>\n",
       "      <td>2022-11-28 18:25:41.499870</td>\n",
       "    </tr>\n",
       "    <tr>\n",
       "      <th>70</th>\n",
       "      <td>3001880797</td>\n",
       "      <td>NaN</td>\n",
       "      <td>NaN</td>\n",
       "      <td>NaN</td>\n",
       "      <td>Altwiesenstr. 81-83/87-101, 8051 Zürich</td>\n",
       "      <td>2022-11-28 18:49:28.966439</td>\n",
       "    </tr>\n",
       "    <tr>\n",
       "      <th>80</th>\n",
       "      <td>3002005057</td>\n",
       "      <td>NaN</td>\n",
       "      <td>NaN</td>\n",
       "      <td>1.5</td>\n",
       "      <td>Restelbergstrasse 28, 8044 Zürich</td>\n",
       "      <td>2022-11-28 18:41:19.843880</td>\n",
       "    </tr>\n",
       "    <tr>\n",
       "      <th>115</th>\n",
       "      <td>3002134420</td>\n",
       "      <td>NaN</td>\n",
       "      <td>NaN</td>\n",
       "      <td>2.0</td>\n",
       "      <td>8047 Zürich</td>\n",
       "      <td>2022-11-28 18:21:35.864658</td>\n",
       "    </tr>\n",
       "    <tr>\n",
       "      <th>310</th>\n",
       "      <td>3002221082</td>\n",
       "      <td>NaN</td>\n",
       "      <td>75.0</td>\n",
       "      <td>3.5</td>\n",
       "      <td>Reinhardstrasse, 8008 Zürich</td>\n",
       "      <td>2022-11-28 18:35:21.790891</td>\n",
       "    </tr>\n",
       "    <tr>\n",
       "      <th>350</th>\n",
       "      <td>3002227177</td>\n",
       "      <td>NaN</td>\n",
       "      <td>110.0</td>\n",
       "      <td>3.5</td>\n",
       "      <td>Haumesserstrasse 8, 8038 Zürich</td>\n",
       "      <td>2022-11-28 18:39:56.254940</td>\n",
       "    </tr>\n",
       "  </tbody>\n",
       "</table>\n",
       "</div>"
      ],
      "text/plain": [
       "     listing_id  price   size  rooms                                  address  \\\n",
       "55   3001641976    NaN  200.0    4.5         Lintheschergasse 23, 8001 Zürich   \n",
       "70   3001880797    NaN    NaN    NaN  Altwiesenstr. 81-83/87-101, 8051 Zürich   \n",
       "80   3002005057    NaN    NaN    1.5        Restelbergstrasse 28, 8044 Zürich   \n",
       "115  3002134420    NaN    NaN    2.0                              8047 Zürich   \n",
       "310  3002221082    NaN   75.0    3.5             Reinhardstrasse, 8008 Zürich   \n",
       "350  3002227177    NaN  110.0    3.5          Haumesserstrasse 8, 8038 Zürich   \n",
       "\n",
       "                extraction_date  \n",
       "55   2022-11-28 18:25:41.499870  \n",
       "70   2022-11-28 18:49:28.966439  \n",
       "80   2022-11-28 18:41:19.843880  \n",
       "115  2022-11-28 18:21:35.864658  \n",
       "310  2022-11-28 18:35:21.790891  \n",
       "350  2022-11-28 18:39:56.254940  "
      ]
     },
     "execution_count": 18,
     "metadata": {},
     "output_type": "execute_result"
    }
   ],
   "source": [
    "df[df['price'].isna()]"
   ]
  },
  {
   "cell_type": "code",
   "execution_count": null,
   "id": "f4b5b11a",
   "metadata": {},
   "outputs": [],
   "source": []
  }
 ],
 "metadata": {
  "kernelspec": {
   "display_name": "Python 3 (ipykernel)",
   "language": "python",
   "name": "python3"
  },
  "language_info": {
   "codemirror_mode": {
    "name": "ipython",
    "version": 3
   },
   "file_extension": ".py",
   "mimetype": "text/x-python",
   "name": "python",
   "nbconvert_exporter": "python",
   "pygments_lexer": "ipython3",
   "version": "3.9.7"
  }
 },
 "nbformat": 4,
 "nbformat_minor": 5
}
